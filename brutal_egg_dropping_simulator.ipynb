{
 "cells": [
  {
   "cell_type": "markdown",
   "metadata": {},
   "source": [
    "# Unecessarily brutal 100 story egg simulator"
   ]
  },
  {
   "cell_type": "markdown",
   "metadata": {},
   "source": [
    "A building has 100 floors. \n",
    "\n",
    "Given 2 identical eggs, how can you use them to find the threshold floor?\n",
    "\n",
    "The egg will break from any particular floor above floor N, including floor N itself."
   ]
  },
  {
   "cell_type": "code",
   "execution_count": 258,
   "metadata": {},
   "outputs": [],
   "source": [
    "import random\n",
    "import numpy as np\n",
    "\n",
    "from typing import List\n",
    "import matplotlib\n",
    "import matplotlib.pyplot as plt"
   ]
  },
  {
   "cell_type": "code",
   "execution_count": 165,
   "metadata": {},
   "outputs": [],
   "source": [
    "# Build the floors, put two eggs in two of them and choose the floor they start breaking on\n",
    "def build(num_floors: int=100, egg1: int=0, egg2: int=50, breaks_on: bool=None):\n",
    "    floors = [x for x in range(num_floors+1)]\n",
    "    if not breaks_on: breaks_on = random.randrange(num_floors)\n",
    "\n",
    "    return (floors, breaks_on, egg1, egg2)\n",
    "    \n",
    "floors, breaks_on, egg1, egg2 = build()"
   ]
  },
  {
   "cell_type": "code",
   "execution_count": 203,
   "metadata": {},
   "outputs": [],
   "source": [
    "# Search for the floor they break on and return the number of steps it took.\n",
    "# Use verbose=2 to print every step, verbose=1 for last result, and 0 for no verbose.\n",
    "def search(floors: List[int], breaks_on: int, egg1: int, egg2: int, verbose: int=2, increment_by: int=1):\n",
    "    if verbose > 0: print(f'breaks_on: {breaks_on}, egg1/egg2: {egg1}/{egg2}')\n",
    "\n",
    "    step = 0\n",
    "    egg1_broken = False\n",
    "    egg2_broken = False\n",
    "    found = False\n",
    "    while (not egg1_broken or not egg2_broken) and not found:\n",
    "        if verbose >= 2: print(f'Step {step}')\n",
    "        if not egg1_broken and egg1 >= breaks_on:\n",
    "            if verbose > 0: print(f'egg 1 broke on floor {egg1}!')\n",
    "            if step > 0:\n",
    "                if verbose > 0:\n",
    "                    print(f'Found! Threshold floor is {breaks_on}')\n",
    "                    print(f'Total steps: {step}')\n",
    "                break\n",
    "            egg1_broken = True\n",
    "        else:\n",
    "            if verbose >= 2: print(f'egg1 moves up')\n",
    "            egg1 += 1\n",
    "\n",
    "        if not egg2_broken and egg2 >= breaks_on:\n",
    "            if verbose > 0: print(f'egg 2 broke on floor {egg2}!')\n",
    "            if step > 0:\n",
    "                if increment_by == 1:\n",
    "                    if verbose > 0:\n",
    "                        print(f'Found! Threshold floor is {breaks_on}')\n",
    "                        print(f'Total steps: {step}')\n",
    "                    break\n",
    "                else:\n",
    "                    egg1 = egg2 - increment_by\n",
    "            egg2_broken = True\n",
    "\n",
    "        else:\n",
    "            if verbose >= 2: print(f'egg2 moves up')\n",
    "            egg2 += increment_by\n",
    "            \n",
    "        step += 1\n",
    "        if verbose >= 2: print()\n",
    "\n",
    "    return step"
   ]
  },
  {
   "cell_type": "code",
   "execution_count": 217,
   "metadata": {},
   "outputs": [
    {
     "name": "stdout",
     "output_type": "stream",
     "text": [
      "breaks_on: 73, egg1/egg2: 0/50\n",
      "egg 2 broke on floor 80!\n",
      "egg 1 broke on floor 73!\n",
      "Found! Threshold floor is 73\n",
      "Total steps: 7\n"
     ]
    },
    {
     "data": {
      "text/plain": [
       "7"
      ]
     },
     "execution_count": 217,
     "metadata": {},
     "output_type": "execute_result"
    }
   ],
   "source": [
    "search(*build(), increment_by=10, verbose=1)"
   ]
  },
  {
   "cell_type": "code",
   "execution_count": 255,
   "metadata": {},
   "outputs": [],
   "source": [
    "# Loop over the two selected egg locations n times and get the mean num of steps\n",
    "def evaluate(egg1: int, egg2: int, increment_by: int=1, times: int=1000):\n",
    "    total_steps = []\n",
    "    for i in range(times):\n",
    "        total_steps.append(search(*build(egg1=egg1, egg2=egg2), increment_by=increment_by, verbose=0))\n",
    "\n",
    "    return total_steps"
   ]
  },
  {
   "cell_type": "code",
   "execution_count": 256,
   "metadata": {},
   "outputs": [
    {
     "name": "stdout",
     "output_type": "stream",
     "text": [
      "10\n",
      "20\n",
      "30\n",
      "40\n",
      "50\n",
      "60\n",
      "70\n",
      "80\n",
      "90\n"
     ]
    }
   ],
   "source": [
    "# Brute force egg2, egg1 stays constant 0.\n",
    "def brute_force_egg2():\n",
    "    increment_by = 10\n",
    "    step_averages = []\n",
    "    step_max = []\n",
    "    egg1 = 0\n",
    "    for i in range(increment_by, 100, increment_by):\n",
    "        egg2 = i + 1\n",
    "        step_averages.append([np.mean(evaluate(egg1, egg2, increment_by=increment_by)), egg1, egg2])\n",
    "        step_max.append([np.max(evaluate(egg1, egg2, increment_by=increment_by)), egg1, egg2])\n",
    "        if i % 10 == 0: print(i)\n",
    "    return (np.array(step_averages), np.array(step_max))\n",
    "\n",
    "step_averages, step_max =  brute_force_egg2()"
   ]
  },
  {
   "cell_type": "code",
   "execution_count": 317,
   "metadata": {},
   "outputs": [],
   "source": [
    "def print_and_plot(step_averages, step_max):\n",
    "    # Print top 10 lowest entries [num_steps, egg1, egg2]\n",
    "    print('Worst case scenarios:')\n",
    "    print(step_max[step_max[:, 0].argsort()][0:10])\n",
    "    print()\n",
    "    print('Average:')\n",
    "    print(step_averages[step_averages[:, 0].argsort()][0:10])\n",
    "    \n",
    "    fig, ax = plt.subplots()\n",
    "    ax.plot(step_max[:,-1], step_max[:,0],)\n",
    "\n",
    "    ax.set(xlabel='egg2 on floor', ylabel='steps', title='Worst case scenario')\n",
    "    ax.grid()\n",
    "    plt.show()\n",
    "    \n",
    "    fig, ax = plt.subplots()\n",
    "    ax.plot(step_averages[:,-1], step_averages[:,0],)\n",
    "\n",
    "    ax.set(xlabel='egg2 on floor', ylabel='steps', title='Average steps')\n",
    "\n",
    "    ax.grid()\n",
    "    plt.show()\n",
    "    "
   ]
  },
  {
   "cell_type": "code",
   "execution_count": 318,
   "metadata": {},
   "outputs": [
    {
     "name": "stdout",
     "output_type": "stream",
     "text": [
      "Worst case scenarios:\n",
      "[[19  0 11]\n",
      " [21  0 21]\n",
      " [31  0 31]\n",
      " [41  0 41]\n",
      " [51  0 51]\n",
      " [61  0 61]\n",
      " [71  0 71]\n",
      " [81  0 81]\n",
      " [91  0 91]]\n",
      "\n",
      "Average:\n",
      "[[10.397  0.    21.   ]\n",
      " [10.538  0.    11.   ]\n",
      " [12.057  0.    31.   ]\n",
      " [14.187  0.    41.   ]\n",
      " [17.993  0.    51.   ]\n",
      " [21.892  0.    61.   ]\n",
      " [28.639  0.    71.   ]\n",
      " [35.428  0.    81.   ]\n",
      " [42.338  0.    91.   ]]\n"
     ]
    },
    {
     "data": {
      "image/png": "[encoded data removed]",
      "text/plain": [
       "<matplotlib.figure.Figure at 0x25b29f24f98>"
      ]
     },
     "metadata": {},
     "output_type": "display_data"
    },
    {
     "data": {
      "image/png": "[encoded data removed]",
      "text/plain": [
       "<matplotlib.figure.Figure at 0x25b29f468d0>"
      ]
     },
     "metadata": {},
     "output_type": "display_data"
    }
   ],
   "source": [
    "print_and_plot(step_averages, step_max)"
   ]
  },
  {
   "cell_type": "code",
   "execution_count": null,
   "metadata": {},
   "outputs": [],
   "source": []
  },
  {
   "cell_type": "code",
   "execution_count": null,
   "metadata": {},
   "outputs": [],
   "source": []
  },
  {
   "cell_type": "code",
   "execution_count": null,
   "metadata": {},
   "outputs": [],
   "source": []
  },
  {
   "cell_type": "code",
   "execution_count": null,
   "metadata": {},
   "outputs": [],
   "source": []
  },
  {
   "cell_type": "code",
   "execution_count": null,
   "metadata": {},
   "outputs": [],
   "source": []
  },
  {
   "cell_type": "code",
   "execution_count": null,
   "metadata": {},
   "outputs": [],
   "source": []
  },
  {
   "cell_type": "code",
   "execution_count": null,
   "metadata": {},
   "outputs": [],
   "source": []
  },
  {
   "cell_type": "code",
   "execution_count": null,
   "metadata": {},
   "outputs": [],
   "source": []
  },
  {
   "cell_type": "code",
   "execution_count": null,
   "metadata": {},
   "outputs": [],
   "source": []
  },
  {
   "cell_type": "code",
   "execution_count": null,
   "metadata": {},
   "outputs": [],
   "source": []
  },
  {
   "cell_type": "code",
   "execution_count": null,
   "metadata": {},
   "outputs": [],
   "source": []
  },
  {
   "cell_type": "code",
   "execution_count": null,
   "metadata": {},
   "outputs": [],
   "source": []
  },
  {
   "cell_type": "code",
   "execution_count": null,
   "metadata": {},
   "outputs": [],
   "source": []
  },
  {
   "cell_type": "code",
   "execution_count": null,
   "metadata": {},
   "outputs": [],
   "source": []
  },
  {
   "cell_type": "code",
   "execution_count": null,
   "metadata": {},
   "outputs": [],
   "source": []
  },
  {
   "cell_type": "code",
   "execution_count": null,
   "metadata": {},
   "outputs": [],
   "source": []
  },
  {
   "cell_type": "code",
   "execution_count": null,
   "metadata": {},
   "outputs": [],
   "source": []
  },
  {
   "cell_type": "code",
   "execution_count": null,
   "metadata": {},
   "outputs": [],
   "source": []
  },
  {
   "cell_type": "code",
   "execution_count": null,
   "metadata": {},
   "outputs": [],
   "source": []
  },
  {
   "cell_type": "code",
   "execution_count": null,
   "metadata": {},
   "outputs": [],
   "source": []
  },
  {
   "cell_type": "code",
   "execution_count": null,
   "metadata": {},
   "outputs": [],
   "source": []
  },
  {
   "cell_type": "code",
   "execution_count": null,
   "metadata": {},
   "outputs": [],
   "source": []
  },
  {
   "cell_type": "code",
   "execution_count": null,
   "metadata": {},
   "outputs": [],
   "source": []
  },
  {
   "cell_type": "code",
   "execution_count": null,
   "metadata": {},
   "outputs": [],
   "source": []
  },
  {
   "cell_type": "code",
   "execution_count": null,
   "metadata": {},
   "outputs": [],
   "source": []
  },
  {
   "cell_type": "code",
   "execution_count": null,
   "metadata": {},
   "outputs": [],
   "source": []
  },
  {
   "cell_type": "code",
   "execution_count": null,
   "metadata": {},
   "outputs": [],
   "source": []
  },
  {
   "cell_type": "code",
   "execution_count": null,
   "metadata": {},
   "outputs": [],
   "source": []
  },
  {
   "cell_type": "code",
   "execution_count": null,
   "metadata": {},
   "outputs": [],
   "source": []
  },
  {
   "cell_type": "code",
   "execution_count": null,
   "metadata": {},
   "outputs": [],
   "source": []
  },
  {
   "cell_type": "code",
   "execution_count": null,
   "metadata": {},
   "outputs": [],
   "source": []
  },
  {
   "cell_type": "code",
   "execution_count": null,
   "metadata": {},
   "outputs": [],
   "source": []
  },
  {
   "cell_type": "code",
   "execution_count": null,
   "metadata": {},
   "outputs": [],
   "source": []
  },
  {
   "cell_type": "code",
   "execution_count": null,
   "metadata": {},
   "outputs": [],
   "source": []
  },
  {
   "cell_type": "code",
   "execution_count": null,
   "metadata": {},
   "outputs": [],
   "source": []
  },
  {
   "cell_type": "code",
   "execution_count": null,
   "metadata": {},
   "outputs": [],
   "source": []
  },
  {
   "cell_type": "code",
   "execution_count": null,
   "metadata": {},
   "outputs": [],
   "source": []
  },
  {
   "cell_type": "code",
   "execution_count": 143,
   "metadata": {},
   "outputs": [],
   "source": [
    "#                        .-^-.\n",
    "#                      .'=^=^='.\n",
    "#                     /=^=^=^=^=\\\n",
    "#             .-~-.  :^=^=^=^=^=^;\n",
    "#           .'~~*~~'.|^|^|^|^|^|^|\n",
    "#          /~~*~~~*~~\\^=^=^=^=^=^:\n",
    "#         :~*~~~*~~~*~;\\.-*))`*-,/\n",
    "#         |~~~*~~~*~~|/*  ((*   *'.\n",
    "#         :~*~~~*~~~*|   *))  *   *\\\n",
    "#          \\~~*~~~*~~| *  ((*   *  /\n",
    "#           `.~~*~~.' \\  *))  *  .'\n",
    "#             `~~~`    '-.((*_.-'\n",
    "                       "
   ]
  }
 ],
 "metadata": {
  "kernelspec": {
   "display_name": "Python 3",
   "language": "python",
   "name": "python3"
  },
  "language_info": {
   "codemirror_mode": {
    "name": "ipython",
    "version": 3
   },
   "file_extension": ".py",
   "mimetype": "text/x-python",
   "name": "python",
   "nbconvert_exporter": "python",
   "pygments_lexer": "ipython3",
   "version": "3.6.4"
  }
 },
 "nbformat": 4,
 "nbformat_minor": 2
}
